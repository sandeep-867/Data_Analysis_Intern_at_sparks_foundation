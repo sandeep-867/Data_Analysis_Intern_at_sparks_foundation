{
 "cells": [
  {
   "cell_type": "markdown",
   "id": "bb962304",
   "metadata": {},
   "source": [
    "## Name: Tanguturi Sandeep Kumar"
   ]
  },
  {
   "cell_type": "markdown",
   "id": "6423aad4",
   "metadata": {},
   "source": [
    "# Data Analysis of a Super Store"
   ]
  },
  {
   "cell_type": "markdown",
   "id": "20a33011",
   "metadata": {},
   "source": [
    "**This is the Exploratory Data Analysis of a superstore as part of the task completion of GRIP Internship organised by the Sparks Foundation. The objective of this task is to find out the weak areas where the superstore can work more to increase their profits and to give an insight of what problems can arise in their business by exploring the data.**"
   ]
  },
  {
   "cell_type": "markdown",
   "id": "4ffab260",
   "metadata": {},
   "source": [
    "Let us import all the necessary libraries using their common aliasing and set some of the default styles for the plots."
   ]
  },
  {
   "cell_type": "code",
   "execution_count": 1,
   "id": "55a16e91",
   "metadata": {},
   "outputs": [],
   "source": [
    "import pandas as pd\n",
    "import numpy as np\n",
    "import seaborn as sns\n",
    "import matplotlib\n",
    "import matplotlib.pyplot as plt\n",
    "%matplotlib inline\n",
    "\n",
    "sns.set_style('darkgrid')\n",
    "matplotlib.rcParams['font.size'] = 14\n",
    "matplotlib.rcParams['figure.figsize'] = (9, 5)\n",
    "matplotlib.rcParams['figure.facecolor'] = '#00000000'"
   ]
  },
  {
   "cell_type": "markdown",
   "id": "e3c05399",
   "metadata": {},
   "source": [
    "## Reading and Inspecting the data"
   ]
  },
  {
   "cell_type": "markdown",
   "id": "9b5b92bc",
   "metadata": {},
   "source": [
    "Reading the csv file into a pandas dataframe."
   ]
  },
  {
   "cell_type": "code",
   "execution_count": 2,
   "id": "05241e32",
   "metadata": {},
   "outputs": [],
   "source": [
    "raw_df=pd.read_csv('SampleSuperstore.csv')"
   ]
  },
  {
   "cell_type": "code",
   "execution_count": 3,
   "id": "60711932",
   "metadata": {},
   "outputs": [
    {
     "data": {
      "text/html": [
       "<div>\n",
       "<style scoped>\n",
       "    .dataframe tbody tr th:only-of-type {\n",
       "        vertical-align: middle;\n",
       "    }\n",
       "\n",
       "    .dataframe tbody tr th {\n",
       "        vertical-align: top;\n",
       "    }\n",
       "\n",
       "    .dataframe thead th {\n",
       "        text-align: right;\n",
       "    }\n",
       "</style>\n",
       "<table border=\"1\" class=\"dataframe\">\n",
       "  <thead>\n",
       "    <tr style=\"text-align: right;\">\n",
       "      <th></th>\n",
       "      <th>Ship Mode</th>\n",
       "      <th>Segment</th>\n",
       "      <th>Country</th>\n",
       "      <th>City</th>\n",
       "      <th>State</th>\n",
       "      <th>Postal Code</th>\n",
       "      <th>Region</th>\n",
       "      <th>Category</th>\n",
       "      <th>Sub-Category</th>\n",
       "      <th>Sales</th>\n",
       "      <th>Quantity</th>\n",
       "      <th>Discount</th>\n",
       "      <th>Profit</th>\n",
       "    </tr>\n",
       "  </thead>\n",
       "  <tbody>\n",
       "    <tr>\n",
       "      <th>0</th>\n",
       "      <td>Second Class</td>\n",
       "      <td>Consumer</td>\n",
       "      <td>United States</td>\n",
       "      <td>Henderson</td>\n",
       "      <td>Kentucky</td>\n",
       "      <td>42420</td>\n",
       "      <td>South</td>\n",
       "      <td>Furniture</td>\n",
       "      <td>Bookcases</td>\n",
       "      <td>261.9600</td>\n",
       "      <td>2</td>\n",
       "      <td>0.00</td>\n",
       "      <td>41.9136</td>\n",
       "    </tr>\n",
       "    <tr>\n",
       "      <th>1</th>\n",
       "      <td>Second Class</td>\n",
       "      <td>Consumer</td>\n",
       "      <td>United States</td>\n",
       "      <td>Henderson</td>\n",
       "      <td>Kentucky</td>\n",
       "      <td>42420</td>\n",
       "      <td>South</td>\n",
       "      <td>Furniture</td>\n",
       "      <td>Chairs</td>\n",
       "      <td>731.9400</td>\n",
       "      <td>3</td>\n",
       "      <td>0.00</td>\n",
       "      <td>219.5820</td>\n",
       "    </tr>\n",
       "    <tr>\n",
       "      <th>2</th>\n",
       "      <td>Second Class</td>\n",
       "      <td>Corporate</td>\n",
       "      <td>United States</td>\n",
       "      <td>Los Angeles</td>\n",
       "      <td>California</td>\n",
       "      <td>90036</td>\n",
       "      <td>West</td>\n",
       "      <td>Office Supplies</td>\n",
       "      <td>Labels</td>\n",
       "      <td>14.6200</td>\n",
       "      <td>2</td>\n",
       "      <td>0.00</td>\n",
       "      <td>6.8714</td>\n",
       "    </tr>\n",
       "    <tr>\n",
       "      <th>3</th>\n",
       "      <td>Standard Class</td>\n",
       "      <td>Consumer</td>\n",
       "      <td>United States</td>\n",
       "      <td>Fort Lauderdale</td>\n",
       "      <td>Florida</td>\n",
       "      <td>33311</td>\n",
       "      <td>South</td>\n",
       "      <td>Furniture</td>\n",
       "      <td>Tables</td>\n",
       "      <td>957.5775</td>\n",
       "      <td>5</td>\n",
       "      <td>0.45</td>\n",
       "      <td>-383.0310</td>\n",
       "    </tr>\n",
       "    <tr>\n",
       "      <th>4</th>\n",
       "      <td>Standard Class</td>\n",
       "      <td>Consumer</td>\n",
       "      <td>United States</td>\n",
       "      <td>Fort Lauderdale</td>\n",
       "      <td>Florida</td>\n",
       "      <td>33311</td>\n",
       "      <td>South</td>\n",
       "      <td>Office Supplies</td>\n",
       "      <td>Storage</td>\n",
       "      <td>22.3680</td>\n",
       "      <td>2</td>\n",
       "      <td>0.20</td>\n",
       "      <td>2.5164</td>\n",
       "    </tr>\n",
       "    <tr>\n",
       "      <th>...</th>\n",
       "      <td>...</td>\n",
       "      <td>...</td>\n",
       "      <td>...</td>\n",
       "      <td>...</td>\n",
       "      <td>...</td>\n",
       "      <td>...</td>\n",
       "      <td>...</td>\n",
       "      <td>...</td>\n",
       "      <td>...</td>\n",
       "      <td>...</td>\n",
       "      <td>...</td>\n",
       "      <td>...</td>\n",
       "      <td>...</td>\n",
       "    </tr>\n",
       "    <tr>\n",
       "      <th>9989</th>\n",
       "      <td>Second Class</td>\n",
       "      <td>Consumer</td>\n",
       "      <td>United States</td>\n",
       "      <td>Miami</td>\n",
       "      <td>Florida</td>\n",
       "      <td>33180</td>\n",
       "      <td>South</td>\n",
       "      <td>Furniture</td>\n",
       "      <td>Furnishings</td>\n",
       "      <td>25.2480</td>\n",
       "      <td>3</td>\n",
       "      <td>0.20</td>\n",
       "      <td>4.1028</td>\n",
       "    </tr>\n",
       "    <tr>\n",
       "      <th>9990</th>\n",
       "      <td>Standard Class</td>\n",
       "      <td>Consumer</td>\n",
       "      <td>United States</td>\n",
       "      <td>Costa Mesa</td>\n",
       "      <td>California</td>\n",
       "      <td>92627</td>\n",
       "      <td>West</td>\n",
       "      <td>Furniture</td>\n",
       "      <td>Furnishings</td>\n",
       "      <td>91.9600</td>\n",
       "      <td>2</td>\n",
       "      <td>0.00</td>\n",
       "      <td>15.6332</td>\n",
       "    </tr>\n",
       "    <tr>\n",
       "      <th>9991</th>\n",
       "      <td>Standard Class</td>\n",
       "      <td>Consumer</td>\n",
       "      <td>United States</td>\n",
       "      <td>Costa Mesa</td>\n",
       "      <td>California</td>\n",
       "      <td>92627</td>\n",
       "      <td>West</td>\n",
       "      <td>Technology</td>\n",
       "      <td>Phones</td>\n",
       "      <td>258.5760</td>\n",
       "      <td>2</td>\n",
       "      <td>0.20</td>\n",
       "      <td>19.3932</td>\n",
       "    </tr>\n",
       "    <tr>\n",
       "      <th>9992</th>\n",
       "      <td>Standard Class</td>\n",
       "      <td>Consumer</td>\n",
       "      <td>United States</td>\n",
       "      <td>Costa Mesa</td>\n",
       "      <td>California</td>\n",
       "      <td>92627</td>\n",
       "      <td>West</td>\n",
       "      <td>Office Supplies</td>\n",
       "      <td>Paper</td>\n",
       "      <td>29.6000</td>\n",
       "      <td>4</td>\n",
       "      <td>0.00</td>\n",
       "      <td>13.3200</td>\n",
       "    </tr>\n",
       "    <tr>\n",
       "      <th>9993</th>\n",
       "      <td>Second Class</td>\n",
       "      <td>Consumer</td>\n",
       "      <td>United States</td>\n",
       "      <td>Westminster</td>\n",
       "      <td>California</td>\n",
       "      <td>92683</td>\n",
       "      <td>West</td>\n",
       "      <td>Office Supplies</td>\n",
       "      <td>Appliances</td>\n",
       "      <td>243.1600</td>\n",
       "      <td>2</td>\n",
       "      <td>0.00</td>\n",
       "      <td>72.9480</td>\n",
       "    </tr>\n",
       "  </tbody>\n",
       "</table>\n",
       "<p>9994 rows × 13 columns</p>\n",
       "</div>"
      ],
      "text/plain": [
       "           Ship Mode    Segment        Country             City       State  \\\n",
       "0       Second Class   Consumer  United States        Henderson    Kentucky   \n",
       "1       Second Class   Consumer  United States        Henderson    Kentucky   \n",
       "2       Second Class  Corporate  United States      Los Angeles  California   \n",
       "3     Standard Class   Consumer  United States  Fort Lauderdale     Florida   \n",
       "4     Standard Class   Consumer  United States  Fort Lauderdale     Florida   \n",
       "...              ...        ...            ...              ...         ...   \n",
       "9989    Second Class   Consumer  United States            Miami     Florida   \n",
       "9990  Standard Class   Consumer  United States       Costa Mesa  California   \n",
       "9991  Standard Class   Consumer  United States       Costa Mesa  California   \n",
       "9992  Standard Class   Consumer  United States       Costa Mesa  California   \n",
       "9993    Second Class   Consumer  United States      Westminster  California   \n",
       "\n",
       "      Postal Code Region         Category Sub-Category     Sales  Quantity  \\\n",
       "0           42420  South        Furniture    Bookcases  261.9600         2   \n",
       "1           42420  South        Furniture       Chairs  731.9400         3   \n",
       "2           90036   West  Office Supplies       Labels   14.6200         2   \n",
       "3           33311  South        Furniture       Tables  957.5775         5   \n",
       "4           33311  South  Office Supplies      Storage   22.3680         2   \n",
       "...           ...    ...              ...          ...       ...       ...   \n",
       "9989        33180  South        Furniture  Furnishings   25.2480         3   \n",
       "9990        92627   West        Furniture  Furnishings   91.9600         2   \n",
       "9991        92627   West       Technology       Phones  258.5760         2   \n",
       "9992        92627   West  Office Supplies        Paper   29.6000         4   \n",
       "9993        92683   West  Office Supplies   Appliances  243.1600         2   \n",
       "\n",
       "      Discount    Profit  \n",
       "0         0.00   41.9136  \n",
       "1         0.00  219.5820  \n",
       "2         0.00    6.8714  \n",
       "3         0.45 -383.0310  \n",
       "4         0.20    2.5164  \n",
       "...        ...       ...  \n",
       "9989      0.20    4.1028  \n",
       "9990      0.00   15.6332  \n",
       "9991      0.20   19.3932  \n",
       "9992      0.00   13.3200  \n",
       "9993      0.00   72.9480  \n",
       "\n",
       "[9994 rows x 13 columns]"
      ]
     },
     "execution_count": 3,
     "metadata": {},
     "output_type": "execute_result"
    }
   ],
   "source": [
    "raw_df"
   ]
  },
  {
   "cell_type": "code",
   "execution_count": 4,
   "id": "68d8438e",
   "metadata": {},
   "outputs": [
    {
     "data": {
      "text/plain": [
       "array(['South', 'West', 'Central', 'East'], dtype=object)"
      ]
     },
     "execution_count": 4,
     "metadata": {},
     "output_type": "execute_result"
    }
   ],
   "source": [
    "raw_df['Region'].unique()"
   ]
  },
  {
   "cell_type": "code",
   "execution_count": 5,
   "id": "c51055bd",
   "metadata": {},
   "outputs": [
    {
     "data": {
      "text/plain": [
       "Index(['Ship Mode', 'Segment', 'Country', 'City', 'State', 'Postal Code',\n",
       "       'Region', 'Category', 'Sub-Category', 'Sales', 'Quantity', 'Discount',\n",
       "       'Profit'],\n",
       "      dtype='object')"
      ]
     },
     "execution_count": 5,
     "metadata": {},
     "output_type": "execute_result"
    }
   ],
   "source": [
    "raw_df.columns"
   ]
  },
  {
   "cell_type": "code",
   "execution_count": 6,
   "id": "1ce32b87",
   "metadata": {},
   "outputs": [
    {
     "data": {
      "text/plain": [
       "array(['Second Class', 'Standard Class', 'First Class', 'Same Day'],\n",
       "      dtype=object)"
      ]
     },
     "execution_count": 6,
     "metadata": {},
     "output_type": "execute_result"
    }
   ],
   "source": [
    "raw_df['Ship Mode'].unique()"
   ]
  },
  {
   "cell_type": "code",
   "execution_count": 7,
   "id": "faa53642",
   "metadata": {},
   "outputs": [
    {
     "data": {
      "text/plain": [
       "531"
      ]
     },
     "execution_count": 7,
     "metadata": {},
     "output_type": "execute_result"
    }
   ],
   "source": [
    "raw_df['City'].nunique()"
   ]
  },
  {
   "cell_type": "code",
   "execution_count": 8,
   "id": "d1338c3b",
   "metadata": {},
   "outputs": [
    {
     "name": "stdout",
     "output_type": "stream",
     "text": [
      "<class 'pandas.core.frame.DataFrame'>\n",
      "RangeIndex: 9994 entries, 0 to 9993\n",
      "Data columns (total 13 columns):\n",
      " #   Column        Non-Null Count  Dtype  \n",
      "---  ------        --------------  -----  \n",
      " 0   Ship Mode     9994 non-null   object \n",
      " 1   Segment       9994 non-null   object \n",
      " 2   Country       9994 non-null   object \n",
      " 3   City          9994 non-null   object \n",
      " 4   State         9994 non-null   object \n",
      " 5   Postal Code   9994 non-null   int64  \n",
      " 6   Region        9994 non-null   object \n",
      " 7   Category      9994 non-null   object \n",
      " 8   Sub-Category  9994 non-null   object \n",
      " 9   Sales         9994 non-null   float64\n",
      " 10  Quantity      9994 non-null   int64  \n",
      " 11  Discount      9994 non-null   float64\n",
      " 12  Profit        9994 non-null   float64\n",
      "dtypes: float64(3), int64(2), object(8)\n",
      "memory usage: 1015.1+ KB\n"
     ]
    }
   ],
   "source": [
    "raw_df.info()"
   ]
  },
  {
   "cell_type": "markdown",
   "id": "24d8a9ba",
   "metadata": {},
   "source": [
    "As we can see, the data does not hold any null values. So, we need not process this data any more."
   ]
  },
  {
   "cell_type": "code",
   "execution_count": 9,
   "id": "1da2a445",
   "metadata": {},
   "outputs": [
    {
     "data": {
      "text/html": [
       "<div>\n",
       "<style scoped>\n",
       "    .dataframe tbody tr th:only-of-type {\n",
       "        vertical-align: middle;\n",
       "    }\n",
       "\n",
       "    .dataframe tbody tr th {\n",
       "        vertical-align: top;\n",
       "    }\n",
       "\n",
       "    .dataframe thead th {\n",
       "        text-align: right;\n",
       "    }\n",
       "</style>\n",
       "<table border=\"1\" class=\"dataframe\">\n",
       "  <thead>\n",
       "    <tr style=\"text-align: right;\">\n",
       "      <th></th>\n",
       "      <th>Postal Code</th>\n",
       "      <th>Sales</th>\n",
       "      <th>Quantity</th>\n",
       "      <th>Discount</th>\n",
       "      <th>Profit</th>\n",
       "    </tr>\n",
       "  </thead>\n",
       "  <tbody>\n",
       "    <tr>\n",
       "      <th>count</th>\n",
       "      <td>9994.000000</td>\n",
       "      <td>9994.000000</td>\n",
       "      <td>9994.000000</td>\n",
       "      <td>9994.000000</td>\n",
       "      <td>9994.000000</td>\n",
       "    </tr>\n",
       "    <tr>\n",
       "      <th>mean</th>\n",
       "      <td>55190.379428</td>\n",
       "      <td>229.858001</td>\n",
       "      <td>3.789574</td>\n",
       "      <td>0.156203</td>\n",
       "      <td>28.656896</td>\n",
       "    </tr>\n",
       "    <tr>\n",
       "      <th>std</th>\n",
       "      <td>32063.693350</td>\n",
       "      <td>623.245101</td>\n",
       "      <td>2.225110</td>\n",
       "      <td>0.206452</td>\n",
       "      <td>234.260108</td>\n",
       "    </tr>\n",
       "    <tr>\n",
       "      <th>min</th>\n",
       "      <td>1040.000000</td>\n",
       "      <td>0.444000</td>\n",
       "      <td>1.000000</td>\n",
       "      <td>0.000000</td>\n",
       "      <td>-6599.978000</td>\n",
       "    </tr>\n",
       "    <tr>\n",
       "      <th>25%</th>\n",
       "      <td>23223.000000</td>\n",
       "      <td>17.280000</td>\n",
       "      <td>2.000000</td>\n",
       "      <td>0.000000</td>\n",
       "      <td>1.728750</td>\n",
       "    </tr>\n",
       "    <tr>\n",
       "      <th>50%</th>\n",
       "      <td>56430.500000</td>\n",
       "      <td>54.490000</td>\n",
       "      <td>3.000000</td>\n",
       "      <td>0.200000</td>\n",
       "      <td>8.666500</td>\n",
       "    </tr>\n",
       "    <tr>\n",
       "      <th>75%</th>\n",
       "      <td>90008.000000</td>\n",
       "      <td>209.940000</td>\n",
       "      <td>5.000000</td>\n",
       "      <td>0.200000</td>\n",
       "      <td>29.364000</td>\n",
       "    </tr>\n",
       "    <tr>\n",
       "      <th>max</th>\n",
       "      <td>99301.000000</td>\n",
       "      <td>22638.480000</td>\n",
       "      <td>14.000000</td>\n",
       "      <td>0.800000</td>\n",
       "      <td>8399.976000</td>\n",
       "    </tr>\n",
       "  </tbody>\n",
       "</table>\n",
       "</div>"
      ],
      "text/plain": [
       "        Postal Code         Sales     Quantity     Discount       Profit\n",
       "count   9994.000000   9994.000000  9994.000000  9994.000000  9994.000000\n",
       "mean   55190.379428    229.858001     3.789574     0.156203    28.656896\n",
       "std    32063.693350    623.245101     2.225110     0.206452   234.260108\n",
       "min     1040.000000      0.444000     1.000000     0.000000 -6599.978000\n",
       "25%    23223.000000     17.280000     2.000000     0.000000     1.728750\n",
       "50%    56430.500000     54.490000     3.000000     0.200000     8.666500\n",
       "75%    90008.000000    209.940000     5.000000     0.200000    29.364000\n",
       "max    99301.000000  22638.480000    14.000000     0.800000  8399.976000"
      ]
     },
     "execution_count": 9,
     "metadata": {},
     "output_type": "execute_result"
    }
   ],
   "source": [
    "raw_df.describe()"
   ]
  },
  {
   "cell_type": "markdown",
   "id": "198a6d16",
   "metadata": {},
   "source": [
    "**As we can observe, there are no null values in any of the columns. So, our data is clean and no need to modify the existing columns but add some useful columns to it which help in visualizing the profits relatively. Lets calculate the profit percentage on each sale of the item and add that new column to our df.**"
   ]
  },
  {
   "cell_type": "code",
   "execution_count": 10,
   "id": "d018bcf5",
   "metadata": {},
   "outputs": [],
   "source": [
    "raw_df['Profit %']=raw_df['Profit']/raw_df['Sales']*100"
   ]
  },
  {
   "cell_type": "code",
   "execution_count": 11,
   "id": "98aa521e",
   "metadata": {},
   "outputs": [
    {
     "data": {
      "text/plain": [
       "0       16.00\n",
       "1       30.00\n",
       "2       47.00\n",
       "3      -40.00\n",
       "4       11.25\n",
       "        ...  \n",
       "9989    16.25\n",
       "9990    17.00\n",
       "9991     7.50\n",
       "9992    45.00\n",
       "9993    30.00\n",
       "Name: Profit %, Length: 9994, dtype: float64"
      ]
     },
     "execution_count": 11,
     "metadata": {},
     "output_type": "execute_result"
    }
   ],
   "source": [
    "raw_df['Profit %']"
   ]
  },
  {
   "cell_type": "markdown",
   "id": "6432896c",
   "metadata": {},
   "source": [
    "***Thus, we have now got our new column in the df. we can now proceed for out exploration of data of different columns.***"
   ]
  },
  {
   "cell_type": "markdown",
   "id": "f8dd3acb",
   "metadata": {},
   "source": [
    "## Exploring and Visualizing the Data "
   ]
  },
  {
   "cell_type": "markdown",
   "id": "82188c52",
   "metadata": {},
   "source": [
    "**-> It is very much essential to analyze the data by grouping it based on category inorder to figure out the areas to be improved.**"
   ]
  },
  {
   "cell_type": "markdown",
   "id": "762f0b17",
   "metadata": {},
   "source": [
    "### 1.Category wise distribution of profit and sales:"
   ]
  },
  {
   "cell_type": "markdown",
   "id": "bd5b04e5",
   "metadata": {},
   "source": [
    "Thus, we group the data by category and then by sub-category and aggregate them over sum to explore the data in depth. we then inspect the sales column and profit column."
   ]
  },
  {
   "cell_type": "code",
   "execution_count": 12,
   "id": "2e2c1300",
   "metadata": {},
   "outputs": [],
   "source": [
    "category_df= raw_df.groupby('Category')[['Sales','Profit']].sum()"
   ]
  },
  {
   "cell_type": "markdown",
   "id": "885558e7",
   "metadata": {},
   "source": [
    "Let us also calculate the percentage of the profit achieved over total sales in each category."
   ]
  },
  {
   "cell_type": "code",
   "execution_count": 13,
   "id": "3027f8a0",
   "metadata": {},
   "outputs": [],
   "source": [
    "category_df['profit %']=category_df['Profit']*100/category_df['Sales']"
   ]
  },
  {
   "cell_type": "code",
   "execution_count": 14,
   "id": "4e2ea3f8",
   "metadata": {},
   "outputs": [
    {
     "data": {
      "text/html": [
       "<div>\n",
       "<style scoped>\n",
       "    .dataframe tbody tr th:only-of-type {\n",
       "        vertical-align: middle;\n",
       "    }\n",
       "\n",
       "    .dataframe tbody tr th {\n",
       "        vertical-align: top;\n",
       "    }\n",
       "\n",
       "    .dataframe thead th {\n",
       "        text-align: right;\n",
       "    }\n",
       "</style>\n",
       "<table border=\"1\" class=\"dataframe\">\n",
       "  <thead>\n",
       "    <tr style=\"text-align: right;\">\n",
       "      <th></th>\n",
       "      <th>Sales</th>\n",
       "      <th>Profit</th>\n",
       "      <th>profit %</th>\n",
       "    </tr>\n",
       "    <tr>\n",
       "      <th>Category</th>\n",
       "      <th></th>\n",
       "      <th></th>\n",
       "      <th></th>\n",
       "    </tr>\n",
       "  </thead>\n",
       "  <tbody>\n",
       "    <tr>\n",
       "      <th>Furniture</th>\n",
       "      <td>741999.7953</td>\n",
       "      <td>18451.2728</td>\n",
       "      <td>2.486695</td>\n",
       "    </tr>\n",
       "    <tr>\n",
       "      <th>Office Supplies</th>\n",
       "      <td>719047.0320</td>\n",
       "      <td>122490.8008</td>\n",
       "      <td>17.035158</td>\n",
       "    </tr>\n",
       "    <tr>\n",
       "      <th>Technology</th>\n",
       "      <td>836154.0330</td>\n",
       "      <td>145454.9481</td>\n",
       "      <td>17.395712</td>\n",
       "    </tr>\n",
       "  </tbody>\n",
       "</table>\n",
       "</div>"
      ],
      "text/plain": [
       "                       Sales       Profit   profit %\n",
       "Category                                            \n",
       "Furniture        741999.7953   18451.2728   2.486695\n",
       "Office Supplies  719047.0320  122490.8008  17.035158\n",
       "Technology       836154.0330  145454.9481  17.395712"
      ]
     },
     "execution_count": 14,
     "metadata": {},
     "output_type": "execute_result"
    }
   ],
   "source": [
    "category_df"
   ]
  },
  {
   "cell_type": "markdown",
   "id": "3d9ea19a",
   "metadata": {},
   "source": [
    "**A pie chart best suits for displaying the contributions of each category in the total profit. So why not plot one?**"
   ]
  },
  {
   "cell_type": "code",
   "execution_count": 15,
   "id": "a5ce7f0b",
   "metadata": {},
   "outputs": [
    {
     "data": {
      "image/png": "[encoded data removed]",
      "text/plain": [
       "<Figure size 864x432 with 1 Axes>"
      ]
     },
     "metadata": {},
     "output_type": "display_data"
    }
   ],
   "source": [
    "plt.figure(figsize=(12,6))\n",
    "plt.title('Contribution of each category in Total Profit')\n",
    "plt.pie(category_df.Profit, labels=category_df.index, autopct='%2.2f%%', startangle=180);"
   ]
  },
  {
   "cell_type": "markdown",
   "id": "9eb6156c",
   "metadata": {},
   "source": [
    "***These numbers clearly indicate that Furniture is not profitable to the expected extent though its overall sales are similar to that of remaining categories.***"
   ]
  },
  {
   "cell_type": "markdown",
   "id": "cb4270b4",
   "metadata": {},
   "source": [
    "**Now that we have come to know that Furniture is the area to be taken into consideration, lets inspect the contribution of each sub-category of Furniture.**"
   ]
  },
  {
   "cell_type": "code",
   "execution_count": 16,
   "id": "8e4aecf5",
   "metadata": {},
   "outputs": [],
   "source": [
    "furniture_df=raw_df[raw_df['Category']=='Furniture']"
   ]
  },
  {
   "cell_type": "code",
   "execution_count": 17,
   "id": "c80f3506",
   "metadata": {},
   "outputs": [],
   "source": [
    "sub_category_df= furniture_df.groupby('Sub-Category')[['Sales','Profit']].sum()"
   ]
  },
  {
   "cell_type": "code",
   "execution_count": 18,
   "id": "ebdc67d1",
   "metadata": {},
   "outputs": [],
   "source": [
    "sub_category_df['profit %']=sub_category_df['Profit']*100/sub_category_df['Sales']"
   ]
  },
  {
   "cell_type": "code",
   "execution_count": 19,
   "id": "fcd2a074",
   "metadata": {},
   "outputs": [
    {
     "data": {
      "text/html": [
       "<div>\n",
       "<style scoped>\n",
       "    .dataframe tbody tr th:only-of-type {\n",
       "        vertical-align: middle;\n",
       "    }\n",
       "\n",
       "    .dataframe tbody tr th {\n",
       "        vertical-align: top;\n",
       "    }\n",
       "\n",
       "    .dataframe thead th {\n",
       "        text-align: right;\n",
       "    }\n",
       "</style>\n",
       "<table border=\"1\" class=\"dataframe\">\n",
       "  <thead>\n",
       "    <tr style=\"text-align: right;\">\n",
       "      <th></th>\n",
       "      <th>Sales</th>\n",
       "      <th>Profit</th>\n",
       "      <th>profit %</th>\n",
       "    </tr>\n",
       "    <tr>\n",
       "      <th>Sub-Category</th>\n",
       "      <th></th>\n",
       "      <th></th>\n",
       "      <th></th>\n",
       "    </tr>\n",
       "  </thead>\n",
       "  <tbody>\n",
       "    <tr>\n",
       "      <th>Bookcases</th>\n",
       "      <td>114879.9963</td>\n",
       "      <td>-3472.5560</td>\n",
       "      <td>-3.022768</td>\n",
       "    </tr>\n",
       "    <tr>\n",
       "      <th>Chairs</th>\n",
       "      <td>328449.1030</td>\n",
       "      <td>26590.1663</td>\n",
       "      <td>8.095673</td>\n",
       "    </tr>\n",
       "    <tr>\n",
       "      <th>Furnishings</th>\n",
       "      <td>91705.1640</td>\n",
       "      <td>13059.1436</td>\n",
       "      <td>14.240358</td>\n",
       "    </tr>\n",
       "    <tr>\n",
       "      <th>Tables</th>\n",
       "      <td>206965.5320</td>\n",
       "      <td>-17725.4811</td>\n",
       "      <td>-8.564460</td>\n",
       "    </tr>\n",
       "  </tbody>\n",
       "</table>\n",
       "</div>"
      ],
      "text/plain": [
       "                    Sales      Profit   profit %\n",
       "Sub-Category                                    \n",
       "Bookcases     114879.9963  -3472.5560  -3.022768\n",
       "Chairs        328449.1030  26590.1663   8.095673\n",
       "Furnishings    91705.1640  13059.1436  14.240358\n",
       "Tables        206965.5320 -17725.4811  -8.564460"
      ]
     },
     "execution_count": 19,
     "metadata": {},
     "output_type": "execute_result"
    }
   ],
   "source": [
    "sub_category_df"
   ]
  },
  {
   "cell_type": "markdown",
   "id": "2c029cda",
   "metadata": {},
   "source": [
    "***Therefore, the sub-categories of Furniture-(Bookcases and Tables)are the ones to be taken care of to improve the profits.***"
   ]
  },
  {
   "cell_type": "markdown",
   "id": "82a31c95",
   "metadata": {},
   "source": [
    "**Perform the same analsyis for Office supplies and Technology categories to know which sub-categories of them are contributing to what extent.**"
   ]
  },
  {
   "cell_type": "code",
   "execution_count": 20,
   "id": "b55ba8ef",
   "metadata": {},
   "outputs": [],
   "source": [
    "office_supplies_df=raw_df[raw_df['Category']=='Office Supplies']"
   ]
  },
  {
   "cell_type": "code",
   "execution_count": 21,
   "id": "e43045a5",
   "metadata": {},
   "outputs": [],
   "source": [
    "sub_category_df1= office_supplies_df.groupby('Sub-Category')[['Sales','Profit']].sum()"
   ]
  },
  {
   "cell_type": "code",
   "execution_count": 22,
   "id": "1dee7217",
   "metadata": {},
   "outputs": [],
   "source": [
    "sub_category_df1['profit %']=sub_category_df1['Profit']/sub_category_df1['Sales']*100"
   ]
  },
  {
   "cell_type": "code",
   "execution_count": 23,
   "id": "6925b716",
   "metadata": {},
   "outputs": [
    {
     "data": {
      "text/html": [
       "<div>\n",
       "<style scoped>\n",
       "    .dataframe tbody tr th:only-of-type {\n",
       "        vertical-align: middle;\n",
       "    }\n",
       "\n",
       "    .dataframe tbody tr th {\n",
       "        vertical-align: top;\n",
       "    }\n",
       "\n",
       "    .dataframe thead th {\n",
       "        text-align: right;\n",
       "    }\n",
       "</style>\n",
       "<table border=\"1\" class=\"dataframe\">\n",
       "  <thead>\n",
       "    <tr style=\"text-align: right;\">\n",
       "      <th></th>\n",
       "      <th>Sales</th>\n",
       "      <th>Profit</th>\n",
       "      <th>profit %</th>\n",
       "    </tr>\n",
       "    <tr>\n",
       "      <th>Sub-Category</th>\n",
       "      <th></th>\n",
       "      <th></th>\n",
       "      <th></th>\n",
       "    </tr>\n",
       "  </thead>\n",
       "  <tbody>\n",
       "    <tr>\n",
       "      <th>Appliances</th>\n",
       "      <td>107532.161</td>\n",
       "      <td>18138.0054</td>\n",
       "      <td>16.867517</td>\n",
       "    </tr>\n",
       "    <tr>\n",
       "      <th>Art</th>\n",
       "      <td>27118.792</td>\n",
       "      <td>6527.7870</td>\n",
       "      <td>24.071083</td>\n",
       "    </tr>\n",
       "    <tr>\n",
       "      <th>Binders</th>\n",
       "      <td>203412.733</td>\n",
       "      <td>30221.7633</td>\n",
       "      <td>14.857361</td>\n",
       "    </tr>\n",
       "    <tr>\n",
       "      <th>Envelopes</th>\n",
       "      <td>16476.402</td>\n",
       "      <td>6964.1767</td>\n",
       "      <td>42.267582</td>\n",
       "    </tr>\n",
       "    <tr>\n",
       "      <th>Fasteners</th>\n",
       "      <td>3024.280</td>\n",
       "      <td>949.5182</td>\n",
       "      <td>31.396504</td>\n",
       "    </tr>\n",
       "    <tr>\n",
       "      <th>Labels</th>\n",
       "      <td>12486.312</td>\n",
       "      <td>5546.2540</td>\n",
       "      <td>44.418672</td>\n",
       "    </tr>\n",
       "    <tr>\n",
       "      <th>Paper</th>\n",
       "      <td>78479.206</td>\n",
       "      <td>34053.5693</td>\n",
       "      <td>43.391837</td>\n",
       "    </tr>\n",
       "    <tr>\n",
       "      <th>Storage</th>\n",
       "      <td>223843.608</td>\n",
       "      <td>21278.8264</td>\n",
       "      <td>9.506113</td>\n",
       "    </tr>\n",
       "    <tr>\n",
       "      <th>Supplies</th>\n",
       "      <td>46673.538</td>\n",
       "      <td>-1189.0995</td>\n",
       "      <td>-2.547695</td>\n",
       "    </tr>\n",
       "  </tbody>\n",
       "</table>\n",
       "</div>"
      ],
      "text/plain": [
       "                   Sales      Profit   profit %\n",
       "Sub-Category                                   \n",
       "Appliances    107532.161  18138.0054  16.867517\n",
       "Art            27118.792   6527.7870  24.071083\n",
       "Binders       203412.733  30221.7633  14.857361\n",
       "Envelopes      16476.402   6964.1767  42.267582\n",
       "Fasteners       3024.280    949.5182  31.396504\n",
       "Labels         12486.312   5546.2540  44.418672\n",
       "Paper          78479.206  34053.5693  43.391837\n",
       "Storage       223843.608  21278.8264   9.506113\n",
       "Supplies       46673.538  -1189.0995  -2.547695"
      ]
     },
     "execution_count": 23,
     "metadata": {},
     "output_type": "execute_result"
    }
   ],
   "source": [
    "sub_category_df1"
   ]
  },
  {
   "cell_type": "markdown",
   "id": "c136891e",
   "metadata": {},
   "source": [
    "We can observe that Paper and Binders are the major contributing factors for profit, thus there is a need to maintain the stability of these products with same profit , while the supplies are being sold for losses, which indicates that prices of the supplies have to be increased and bring them into profits."
   ]
  },
  {
   "cell_type": "code",
   "execution_count": 24,
   "id": "077ad3e4",
   "metadata": {},
   "outputs": [],
   "source": [
    "Technology_df=raw_df[raw_df['Category']=='Technology']"
   ]
  },
  {
   "cell_type": "code",
   "execution_count": 25,
   "id": "69ffa412",
   "metadata": {},
   "outputs": [],
   "source": [
    "sub_category_df2= Technology_df.groupby('Sub-Category')[['Sales','Profit']].sum()"
   ]
  },
  {
   "cell_type": "code",
   "execution_count": 26,
   "id": "7bb7a84d",
   "metadata": {},
   "outputs": [],
   "source": [
    "sub_category_df2['profit %']=sub_category_df2['Profit']*100/sub_category_df2['Sales']"
   ]
  },
  {
   "cell_type": "code",
   "execution_count": 27,
   "id": "758fe71b",
   "metadata": {},
   "outputs": [
    {
     "data": {
      "text/html": [
       "<div>\n",
       "<style scoped>\n",
       "    .dataframe tbody tr th:only-of-type {\n",
       "        vertical-align: middle;\n",
       "    }\n",
       "\n",
       "    .dataframe tbody tr th {\n",
       "        vertical-align: top;\n",
       "    }\n",
       "\n",
       "    .dataframe thead th {\n",
       "        text-align: right;\n",
       "    }\n",
       "</style>\n",
       "<table border=\"1\" class=\"dataframe\">\n",
       "  <thead>\n",
       "    <tr style=\"text-align: right;\">\n",
       "      <th></th>\n",
       "      <th>Sales</th>\n",
       "      <th>Profit</th>\n",
       "      <th>profit %</th>\n",
       "    </tr>\n",
       "    <tr>\n",
       "      <th>Sub-Category</th>\n",
       "      <th></th>\n",
       "      <th></th>\n",
       "      <th></th>\n",
       "    </tr>\n",
       "  </thead>\n",
       "  <tbody>\n",
       "    <tr>\n",
       "      <th>Accessories</th>\n",
       "      <td>167380.318</td>\n",
       "      <td>41936.6357</td>\n",
       "      <td>25.054700</td>\n",
       "    </tr>\n",
       "    <tr>\n",
       "      <th>Copiers</th>\n",
       "      <td>149528.030</td>\n",
       "      <td>55617.8249</td>\n",
       "      <td>37.195585</td>\n",
       "    </tr>\n",
       "    <tr>\n",
       "      <th>Machines</th>\n",
       "      <td>189238.631</td>\n",
       "      <td>3384.7569</td>\n",
       "      <td>1.788618</td>\n",
       "    </tr>\n",
       "    <tr>\n",
       "      <th>Phones</th>\n",
       "      <td>330007.054</td>\n",
       "      <td>44515.7306</td>\n",
       "      <td>13.489327</td>\n",
       "    </tr>\n",
       "  </tbody>\n",
       "</table>\n",
       "</div>"
      ],
      "text/plain": [
       "                   Sales      Profit   profit %\n",
       "Sub-Category                                   \n",
       "Accessories   167380.318  41936.6357  25.054700\n",
       "Copiers       149528.030  55617.8249  37.195585\n",
       "Machines      189238.631   3384.7569   1.788618\n",
       "Phones        330007.054  44515.7306  13.489327"
      ]
     },
     "execution_count": 27,
     "metadata": {},
     "output_type": "execute_result"
    }
   ],
   "source": [
    "sub_category_df2"
   ]
  },
  {
   "cell_type": "markdown",
   "id": "18221d58",
   "metadata": {},
   "source": [
    "**Now, its time to compare all the three categories along with their sub-categories in a single plot side by side. A bar chart can serve our purpose.**"
   ]
  },
  {
   "cell_type": "code",
   "execution_count": 28,
   "id": "3a3c2290",
   "metadata": {},
   "outputs": [
    {
     "data": {
      "image/png": "[encoded data removed]",
      "text/plain": [
       "<Figure size 1440x432 with 3 Axes>"
      ]
     },
     "metadata": {
      "needs_background": "light"
     },
     "output_type": "display_data"
    }
   ],
   "source": [
    "fig, axes = plt.subplots(1, 3, figsize=(20, 6))\n",
    "\n",
    "axes[0].set_title('Profit percentage of each category in Furniture')\n",
    "sns.barplot(x=sub_category_df.index,y=sub_category_df['profit %'],ax=axes[0])\n",
    "\n",
    "axes[2].set_title('Profit percentage of each category in Technology')\n",
    "sns.barplot(x=sub_category_df2.index,y=sub_category_df2['profit %'],ax=axes[2]);\n",
    "\n",
    "axes[1].set_title('Profit percentage of each category in Office Supplies')\n",
    "sns.barplot(x=sub_category_df1.index,y=sub_category_df1['profit %'],ax=axes[1]);\n",
    "\n",
    "axes[1].set_xticklabels(axes[1].get_xticklabels(), rotation=45, ha='right');"
   ]
  },
  {
   "cell_type": "markdown",
   "id": "434706cd",
   "metadata": {},
   "source": [
    "***These plots show that the maximum percentage of profits are coming from Offile supplies, while the loss is occuring majorly due to sub categories of furniture like Bookcases and Tables. Also, Technolgy is not out of the major contributing factors for profit. Infact, it is the only category where no item is sold at loss.***"
   ]
  },
  {
   "cell_type": "markdown",
   "id": "47b1fdd8",
   "metadata": {},
   "source": [
    "### 2. Segment wise distribution of profit:"
   ]
  },
  {
   "cell_type": "markdown",
   "id": "be26e984",
   "metadata": {},
   "source": [
    "**We shall now investigate the profit obtained from various segments in a barchart**"
   ]
  },
  {
   "cell_type": "code",
   "execution_count": 29,
   "id": "991ce089",
   "metadata": {},
   "outputs": [],
   "source": [
    "segment_df = raw_df.groupby('Segment')[['Sales','Profit']].sum()"
   ]
  },
  {
   "cell_type": "code",
   "execution_count": 30,
   "id": "9eb7b0f4",
   "metadata": {},
   "outputs": [],
   "source": [
    "segment_df['Profit %']= segment_df['Profit']*100/segment_df['Sales']"
   ]
  },
  {
   "cell_type": "code",
   "execution_count": 31,
   "id": "5eb11b14",
   "metadata": {},
   "outputs": [
    {
     "data": {
      "text/html": [
       "<div>\n",
       "<style scoped>\n",
       "    .dataframe tbody tr th:only-of-type {\n",
       "        vertical-align: middle;\n",
       "    }\n",
       "\n",
       "    .dataframe tbody tr th {\n",
       "        vertical-align: top;\n",
       "    }\n",
       "\n",
       "    .dataframe thead th {\n",
       "        text-align: right;\n",
       "    }\n",
       "</style>\n",
       "<table border=\"1\" class=\"dataframe\">\n",
       "  <thead>\n",
       "    <tr style=\"text-align: right;\">\n",
       "      <th></th>\n",
       "      <th>Sales</th>\n",
       "      <th>Profit</th>\n",
       "      <th>Profit %</th>\n",
       "    </tr>\n",
       "    <tr>\n",
       "      <th>Segment</th>\n",
       "      <th></th>\n",
       "      <th></th>\n",
       "      <th></th>\n",
       "    </tr>\n",
       "  </thead>\n",
       "  <tbody>\n",
       "    <tr>\n",
       "      <th>Consumer</th>\n",
       "      <td>1.161401e+06</td>\n",
       "      <td>134119.2092</td>\n",
       "      <td>11.548050</td>\n",
       "    </tr>\n",
       "    <tr>\n",
       "      <th>Corporate</th>\n",
       "      <td>7.061464e+05</td>\n",
       "      <td>91979.1340</td>\n",
       "      <td>13.025506</td>\n",
       "    </tr>\n",
       "    <tr>\n",
       "      <th>Home Office</th>\n",
       "      <td>4.296531e+05</td>\n",
       "      <td>60298.6785</td>\n",
       "      <td>14.034269</td>\n",
       "    </tr>\n",
       "  </tbody>\n",
       "</table>\n",
       "</div>"
      ],
      "text/plain": [
       "                    Sales       Profit   Profit %\n",
       "Segment                                          \n",
       "Consumer     1.161401e+06  134119.2092  11.548050\n",
       "Corporate    7.061464e+05   91979.1340  13.025506\n",
       "Home Office  4.296531e+05   60298.6785  14.034269"
      ]
     },
     "execution_count": 31,
     "metadata": {},
     "output_type": "execute_result"
    }
   ],
   "source": [
    "segment_df"
   ]
  },
  {
   "cell_type": "code",
   "execution_count": 32,
   "id": "ed9e8844",
   "metadata": {},
   "outputs": [
    {
     "data": {
      "image/png": "[encoded data removed]",
      "text/plain": [
       "<Figure size 648x360 with 1 Axes>"
      ]
     },
     "metadata": {
      "needs_background": "light"
     },
     "output_type": "display_data"
    }
   ],
   "source": [
    "plt.xlabel('Segment')\n",
    "plt.ylabel('Total Profit in that segment')\n",
    "plt.title('Segment wise comparision of profit')\n",
    "plt.bar(segment_df.index, segment_df['Profit']);"
   ]
  },
  {
   "cell_type": "markdown",
   "id": "c202129c",
   "metadata": {},
   "source": [
    "**Consumer segment is the most significant segment interms of profit. Almost 1.5 times the profit of Corporate segment and more than twice of the profit of Home Office.**"
   ]
  },
  {
   "cell_type": "markdown",
   "id": "0f4da370",
   "metadata": {},
   "source": [
    "### 3. Exploring the sales Region wise:"
   ]
  },
  {
   "cell_type": "markdown",
   "id": "31c5ecb0",
   "metadata": {},
   "source": [
    "**The last thing to explore is the effect of region over the sales of items:**"
   ]
  },
  {
   "cell_type": "code",
   "execution_count": 33,
   "id": "5d52d3be",
   "metadata": {},
   "outputs": [],
   "source": [
    "region_df = raw_df.groupby('Region')[['Sales','Profit']].sum()"
   ]
  },
  {
   "cell_type": "code",
   "execution_count": 34,
   "id": "ad45777d",
   "metadata": {},
   "outputs": [],
   "source": [
    "region_df['Profit %']= region_df['Profit']*100/region_df['Sales']"
   ]
  },
  {
   "cell_type": "markdown",
   "id": "b041c495",
   "metadata": {},
   "source": [
    "**We can plot a bar chart and conclude out results.**"
   ]
  },
  {
   "cell_type": "code",
   "execution_count": 35,
   "id": "ea195099",
   "metadata": {},
   "outputs": [
    {
     "data": {
      "image/png": "[encoded data removed]",
      "text/plain": [
       "<Figure size 648x360 with 1 Axes>"
      ]
     },
     "metadata": {
      "needs_background": "light"
     },
     "output_type": "display_data"
    }
   ],
   "source": [
    "plt.xlabel('Region')\n",
    "plt.ylabel('Total Profit in that Region')\n",
    "plt.title('Region wise comparision of profit')\n",
    "plt.bar(region_df.index, region_df['Profit']);"
   ]
  },
  {
   "cell_type": "markdown",
   "id": "9f4ddc0c",
   "metadata": {},
   "source": [
    "**Now, the question arises, what are the categories that bring huge difference in profit among the regions. Let us seperate these regions and examine them.**"
   ]
  },
  {
   "cell_type": "code",
   "execution_count": 36,
   "id": "b97e2700",
   "metadata": {},
   "outputs": [],
   "source": [
    "south_df=raw_df[raw_df['Region']=='South']\n",
    "west_df=raw_df[raw_df['Region']=='West']"
   ]
  },
  {
   "cell_type": "code",
   "execution_count": 37,
   "id": "8a42009a",
   "metadata": {},
   "outputs": [],
   "source": [
    "south_grp=south_df.groupby('Category')['Sales'].sum()\n",
    "west_grp=west_df.groupby('Category')['Sales'].sum()"
   ]
  },
  {
   "cell_type": "code",
   "execution_count": 38,
   "id": "a204c4f5",
   "metadata": {},
   "outputs": [],
   "source": [
    "south_f=south_grp.to_frame()\n",
    "west_f=west_grp.to_frame()"
   ]
  },
  {
   "cell_type": "code",
   "execution_count": 39,
   "id": "a99c9062",
   "metadata": {},
   "outputs": [
    {
     "data": {
      "text/html": [
       "<div>\n",
       "<style scoped>\n",
       "    .dataframe tbody tr th:only-of-type {\n",
       "        vertical-align: middle;\n",
       "    }\n",
       "\n",
       "    .dataframe tbody tr th {\n",
       "        vertical-align: top;\n",
       "    }\n",
       "\n",
       "    .dataframe thead th {\n",
       "        text-align: right;\n",
       "    }\n",
       "</style>\n",
       "<table border=\"1\" class=\"dataframe\">\n",
       "  <thead>\n",
       "    <tr style=\"text-align: right;\">\n",
       "      <th></th>\n",
       "      <th>Sales</th>\n",
       "    </tr>\n",
       "    <tr>\n",
       "      <th>Category</th>\n",
       "      <th></th>\n",
       "    </tr>\n",
       "  </thead>\n",
       "  <tbody>\n",
       "    <tr>\n",
       "      <th>Furniture</th>\n",
       "      <td>117298.684</td>\n",
       "    </tr>\n",
       "    <tr>\n",
       "      <th>Office Supplies</th>\n",
       "      <td>125651.313</td>\n",
       "    </tr>\n",
       "    <tr>\n",
       "      <th>Technology</th>\n",
       "      <td>148771.908</td>\n",
       "    </tr>\n",
       "  </tbody>\n",
       "</table>\n",
       "</div>"
      ],
      "text/plain": [
       "                      Sales\n",
       "Category                   \n",
       "Furniture        117298.684\n",
       "Office Supplies  125651.313\n",
       "Technology       148771.908"
      ]
     },
     "execution_count": 39,
     "metadata": {},
     "output_type": "execute_result"
    }
   ],
   "source": [
    "south_f"
   ]
  },
  {
   "cell_type": "code",
   "execution_count": 40,
   "id": "a23523a7",
   "metadata": {},
   "outputs": [
    {
     "data": {
      "text/html": [
       "<div>\n",
       "<style scoped>\n",
       "    .dataframe tbody tr th:only-of-type {\n",
       "        vertical-align: middle;\n",
       "    }\n",
       "\n",
       "    .dataframe tbody tr th {\n",
       "        vertical-align: top;\n",
       "    }\n",
       "\n",
       "    .dataframe thead th {\n",
       "        text-align: right;\n",
       "    }\n",
       "</style>\n",
       "<table border=\"1\" class=\"dataframe\">\n",
       "  <thead>\n",
       "    <tr style=\"text-align: right;\">\n",
       "      <th></th>\n",
       "      <th>Sales</th>\n",
       "    </tr>\n",
       "    <tr>\n",
       "      <th>Category</th>\n",
       "      <th></th>\n",
       "    </tr>\n",
       "  </thead>\n",
       "  <tbody>\n",
       "    <tr>\n",
       "      <th>Furniture</th>\n",
       "      <td>252612.7435</td>\n",
       "    </tr>\n",
       "    <tr>\n",
       "      <th>Office Supplies</th>\n",
       "      <td>220853.2490</td>\n",
       "    </tr>\n",
       "    <tr>\n",
       "      <th>Technology</th>\n",
       "      <td>251991.8320</td>\n",
       "    </tr>\n",
       "  </tbody>\n",
       "</table>\n",
       "</div>"
      ],
      "text/plain": [
       "                       Sales\n",
       "Category                    \n",
       "Furniture        252612.7435\n",
       "Office Supplies  220853.2490\n",
       "Technology       251991.8320"
      ]
     },
     "execution_count": 40,
     "metadata": {},
     "output_type": "execute_result"
    }
   ],
   "source": [
    "west_f"
   ]
  },
  {
   "cell_type": "markdown",
   "id": "e61bbfc1",
   "metadata": {},
   "source": [
    "***Almost all the categories have equal contributions to profit in any region. So, the sales of all the categories must be increased in the South and Central regions to obtain more profit.***"
   ]
  },
  {
   "cell_type": "markdown",
   "id": "99ab451d",
   "metadata": {},
   "source": [
    "## ***Asking and answering questions*** "
   ]
  },
  {
   "cell_type": "markdown",
   "id": "0af0f306",
   "metadata": {},
   "source": [
    "### **1.Is the superstore running in profit or loss? What percentage of profit or loss is the superstore having over its total sales?**"
   ]
  },
  {
   "cell_type": "code",
   "execution_count": 41,
   "id": "60b591c5",
   "metadata": {},
   "outputs": [],
   "source": [
    "total_profit=raw_df['Profit'].sum()"
   ]
  },
  {
   "cell_type": "code",
   "execution_count": 42,
   "id": "a3fe769c",
   "metadata": {},
   "outputs": [],
   "source": [
    "total_sales=raw_df['Sales'].sum()"
   ]
  },
  {
   "cell_type": "code",
   "execution_count": 43,
   "id": "a0caae7d",
   "metadata": {},
   "outputs": [],
   "source": [
    "percentage= total_profit/total_sales*100"
   ]
  },
  {
   "cell_type": "code",
   "execution_count": 44,
   "id": "218762f0",
   "metadata": {},
   "outputs": [
    {
     "data": {
      "text/plain": [
       "12.467217240315604"
      ]
     },
     "execution_count": 44,
     "metadata": {},
     "output_type": "execute_result"
    }
   ],
   "source": [
    "percentage"
   ]
  },
  {
   "cell_type": "markdown",
   "id": "b14a10c7",
   "metadata": {},
   "source": [
    "***Thus, the superstore is making a profit of 12.4% over its total sales.***"
   ]
  },
  {
   "cell_type": "markdown",
   "id": "83110e60",
   "metadata": {},
   "source": [
    "### 2. Which category items are sold the most interms of quantity?"
   ]
  },
  {
   "cell_type": "code",
   "execution_count": 45,
   "id": "a902e5a5",
   "metadata": {},
   "outputs": [],
   "source": [
    "Category_df=raw_df.groupby('Category')['Quantity'].sum()"
   ]
  },
  {
   "cell_type": "code",
   "execution_count": 46,
   "id": "a56183cd",
   "metadata": {},
   "outputs": [
    {
     "data": {
      "text/plain": [
       "Category\n",
       "Furniture           8028\n",
       "Office Supplies    22906\n",
       "Technology          6939\n",
       "Name: Quantity, dtype: int64"
      ]
     },
     "execution_count": 46,
     "metadata": {},
     "output_type": "execute_result"
    }
   ],
   "source": [
    "Category_df"
   ]
  },
  {
   "cell_type": "markdown",
   "id": "3087a54e",
   "metadata": {},
   "source": [
    "***Office supplies items are sold the most interms of quantity.***"
   ]
  },
  {
   "cell_type": "markdown",
   "id": "1e9ae58f",
   "metadata": {},
   "source": [
    "### 3.What amount of loss can be avoided if some of the items in the store can be discarded from selling?"
   ]
  },
  {
   "cell_type": "markdown",
   "id": "c0ed4a98",
   "metadata": {},
   "source": [
    "**The idea is to find out the overall loss occuring due to some of the items. If we can discard those items which are leading for the loss, we can acheive greater profits on overall.**"
   ]
  },
  {
   "cell_type": "code",
   "execution_count": 47,
   "id": "84a181c0",
   "metadata": {},
   "outputs": [],
   "source": [
    "loss_df = raw_df[raw_df['Profit']<0]"
   ]
  },
  {
   "cell_type": "code",
   "execution_count": 48,
   "id": "d1efb0fa",
   "metadata": {},
   "outputs": [],
   "source": [
    "total_loss=loss_df['Profit'].sum()"
   ]
  },
  {
   "cell_type": "code",
   "execution_count": 49,
   "id": "787c9cfc",
   "metadata": {},
   "outputs": [
    {
     "data": {
      "text/plain": [
       "-156131.2857"
      ]
     },
     "execution_count": 49,
     "metadata": {},
     "output_type": "execute_result"
    }
   ],
   "source": [
    "total_loss"
   ]
  },
  {
   "cell_type": "markdown",
   "id": "a3746ab7",
   "metadata": {},
   "source": [
    "***Thus, it is possible to avoid loss amount around one and half lakh if certain items are discarded from selling.***"
   ]
  },
  {
   "cell_type": "markdown",
   "id": "a0549f1d",
   "metadata": {},
   "source": [
    "## Conclusions and Inferences:"
   ]
  },
  {
   "cell_type": "markdown",
   "id": "61207f23",
   "metadata": {},
   "source": [
    "***Based on our exploration, we can conclude the following results:***\n",
    "\n",
    "**1.The sales of the superstore are distributed among three segments: Consumer, Corporate, Home supplies. These segments are spread over four regions: West, East, Central and South. Each of the item sold belongs to one of the categories: Furniture, Office supplies or Technology.**"
   ]
  },
  {
   "cell_type": "markdown",
   "id": "298e5200",
   "metadata": {},
   "source": [
    "**2. Furniture is the lowest contributing category in the overall profit(only about 6%). Thus, it is the weak area to be worked on more.**"
   ]
  },
  {
   "cell_type": "markdown",
   "id": "576547fa",
   "metadata": {},
   "source": [
    "**3. The sub categories Book cases and tables are the ones which cause loss. Thus, they must be discarded from selling or increase the prices to make profit.**"
   ]
  },
  {
   "cell_type": "markdown",
   "id": "e5340785",
   "metadata": {},
   "source": [
    "**4. Supplies is the sub category of Office supplies which is in loss and thus to be taken care of. Machines in Technology are not making the considerable profit(very less). So, they have to be improved in terms of manufacturing cost to make profits more.**"
   ]
  },
  {
   "cell_type": "markdown",
   "id": "088a2f2c",
   "metadata": {},
   "source": [
    "**5. Labels, Paper and envelopes are making most of the profit from Office supplies. Furnishings, Copiers and Accesories are also major contributors of profit. All these must be maintained in a state how they are at present.**"
   ]
  },
  {
   "cell_type": "markdown",
   "id": "afadbaf6",
   "metadata": {},
   "source": [
    "**6.Central and South regions are having less sales as compared to East and West regions. There is a need of marketing or an improvement in shipment process for the East and West regions.**"
   ]
  },
  {
   "cell_type": "markdown",
   "id": "e7bae0bd",
   "metadata": {},
   "source": [
    "***The Problems that may arise as a business manager are:***"
   ]
  },
  {
   "cell_type": "markdown",
   "id": "11a99163",
   "metadata": {},
   "source": [
    "**1. Some areas(like Book cases and tables) are at huge loss, this is very challenging to bring this to profits. Also, it can not be discarded from selling, because if it is done so, the sales of other products might get affected.**"
   ]
  },
  {
   "cell_type": "markdown",
   "id": "a6c975d4",
   "metadata": {},
   "source": [
    "**2. The sales are unevenly distributed over different regions. Thus, its a challenging task to improve the sales in certain regions (whether to create faith in people over the products of their store or to make the shipping process better).**"
   ]
  }
 ],
 "metadata": {
  "kernelspec": {
   "display_name": "Python 3 (ipykernel)",
   "language": "python",
   "name": "python3"
  },
  "language_info": {
   "codemirror_mode": {
    "name": "ipython",
    "version": 3
   },
   "file_extension": ".py",
   "mimetype": "text/x-python",
   "name": "python",
   "nbconvert_exporter": "python",
   "pygments_lexer": "ipython3",
   "version": "3.9.6"
  }
 },
 "nbformat": 4,
 "nbformat_minor": 5
}
